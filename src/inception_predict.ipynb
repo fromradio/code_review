{
 "cells": [
  {
   "cell_type": "code",
   "execution_count": 1,
   "metadata": {
    "collapsed": true
   },
   "outputs": [],
   "source": [
    "import numpy as np\n",
    "import tensorflow as tf\n",
    "import cv2\n",
    "import os\n",
    "\n",
    "pixel_len=256\n",
    "color_channel=3\n",
    "label_size=2\n",
    "\n",
    "batch_size=50\n",
    "test_size=100\n",
    "\n",
    "def input_data(all_dir, tr_fn, te_fn):\n",
    "    train_file=open(tr_fn,'r')\n",
    "    test_file=open(te_fn,'r')\n",
    "    \n",
    "    lines=train_file.readlines()\n",
    "    \n",
    "    X_tr=np.zeros((len(lines),pixel_len,pixel_len,color_channel), np.float16)\n",
    "    Y_tr=np.zeros((len(lines),label_size))\n",
    "    \n",
    "    index=0\n",
    "    for line in lines:\n",
    "        filename=line.strip('\\n').split(' ')[0]\n",
    "        label_value=int(line.strip('\\n').split(' ')[1])\n",
    "        img=cv2.imread(all_dir+filename)\n",
    "        b,g,r=cv2.split(img)\n",
    "        X_tr[index,:,:,0]=r\n",
    "        X_tr[index,:,:,1]=g\n",
    "        X_tr[index,:,:,2]=b\n",
    "        label_vec=np.zeros(label_size)\n",
    "        label_vec[label_value]=1\n",
    "        Y_tr[index]=label_vec\n",
    "        \n",
    "        index+=1\n",
    "        \n",
    "    lines=test_file.readlines()\n",
    "    \n",
    "    X_te=np.zeros((len(lines),pixel_len,pixel_len,color_channel), np.float16)\n",
    "    Y_te=np.zeros((len(lines),label_size))\n",
    "    \n",
    "    index=0\n",
    "    for line in lines:\n",
    "        filename=line.strip('\\n').split(' ')[0]\n",
    "        label_value=int(line.strip('\\n').split(' ')[1])\n",
    "        img=cv2.imread(all_dir+filename)\n",
    "        b,g,r=cv2.split(img)\n",
    "        X_te[index,:,:,0]=r\n",
    "        X_te[index,:,:,1]=g\n",
    "        X_te[index,:,:,2]=b\n",
    "        label_vec=np.zeros(label_size)\n",
    "        label_vec[label_value]=1\n",
    "        Y_te[index]=label_vec\n",
    "        \n",
    "        index+=1\n",
    "        \n",
    "    return X_tr, Y_tr, X_te, Y_te\n",
    "\n",
    "def minus_mean(X, mean_image):\n",
    "    for channel in range(X.shape[3]):\n",
    "        for elm in range(X.shape[0]):\n",
    "            X[elm, :, :, channel]-=mean_image[:,:,channel]\n",
    "\n",
    "def cal_true_class(teY):\n",
    "    true_class=np.zeros(teY.shape[0])\n",
    "    for i in range(true_class.shape[0]):\n",
    "        true_class[i]=np.argmax(teY[i])\n",
    "    return true_class"
   ]
  },
  {
   "cell_type": "code",
   "execution_count": 2,
   "metadata": {
    "collapsed": false
   },
   "outputs": [
    {
     "name": "stdout",
     "output_type": "stream",
     "text": [
      "load data...\n",
      "load data done!\n",
      "substract mean image...\n",
      "substract mean image done!\n"
     ]
    }
   ],
   "source": [
    "main_dir='/home/hr/TensorFlow-Tutorials-master/myPros/'\n",
    "work_dir=main_dir+'pifu_features_cnn/'\n",
    "all_dir=main_dir+'256_patch/'\n",
    "\n",
    "result_i=0\n",
    "\n",
    "te_fn=work_dir+'x_validate/test'+str(result_i)+'.txt'\n",
    "tr_fn=work_dir+'x_validate/train'+str(result_i)+'.txt'\n",
    "\n",
    "print 'load data...'\n",
    "trX, trY, teX, teY=input_data(all_dir, tr_fn, te_fn)\n",
    "print 'load data done!'\n",
    "\n",
    "print 'substract mean image...'\n",
    "mean_image=np.load('mean_files/mean_'+str(result_i)+'.npy')\n",
    "minus_mean(trX, mean_image=mean_image)\n",
    "minus_mean(teX, mean_image=mean_image)\n",
    "print 'substract mean image done!'"
   ]
  },
  {
   "cell_type": "code",
   "execution_count": 3,
   "metadata": {
    "collapsed": true
   },
   "outputs": [],
   "source": [
    "import tensorflow.contrib.slim as slim\n",
    "import my_inception_v1 as inception_v1\n",
    "\n",
    "BATCH_SIZE=1\n",
    "\n",
    "inputs=tf.placeholder(tf.float32, shape=[BATCH_SIZE, pixel_len, pixel_len, color_channel], name='inputs')\n",
    "labels=tf.placeholder(dtype=tf.int16, shape=[BATCH_SIZE, label_size], name='labels')\n",
    "p_keep_hidden=tf.placeholder(\"float\")"
   ]
  },
  {
   "cell_type": "code",
   "execution_count": 4,
   "metadata": {
    "collapsed": false
   },
   "outputs": [],
   "source": [
    "with slim.arg_scope(inception_v1.vgg_arg_scope()): \n",
    "    output, end_points = inception_v1.inception_v1(inputs=inputs, num_classes=label_size,dropout_keep_prob=p_keep_hidden, is_training=False)\n",
    "\n",
    "prediction = tf.argmax(tf.nn.softmax(output),1)"
   ]
  },
  {
   "cell_type": "code",
   "execution_count": 5,
   "metadata": {
    "collapsed": false
   },
   "outputs": [],
   "source": [
    "model_def='models/'+str(result_i)+'/vgg_a_scale_filter.ckpt'\n",
    "init_fn = slim.assign_from_checkpoint_fn(model_def,\n",
    "                                        slim.get_model_variables())"
   ]
  },
  {
   "cell_type": "code",
   "execution_count": 6,
   "metadata": {
    "collapsed": false,
    "scrolled": true
   },
   "outputs": [
    {
     "name": "stdout",
     "output_type": "stream",
     "text": [
      "begin to predict...\n",
      "predict done!\n",
      "0th result:\n",
      "train_mix_matrix is:\n",
      "[[1350    0]\n",
      " [   0 1350]]\n",
      "train accuracy is: 1.0\n",
      "test_mix_matrix is:\n",
      "[[111  39]\n",
      " [  0 150]]\n",
      "test accuracy is: 0.87\n"
     ]
    }
   ],
   "source": [
    "train_matrix=np.zeros([label_size,label_size], np.int32)\n",
    "test_matrix=np.zeros([label_size,label_size], np.int32)\n",
    "\n",
    "with tf.Session() as sess:\n",
    "    \n",
    "    init_fn(sess)\n",
    "\n",
    "    print 'begin to predict...'\n",
    "    train_batch = zip(range(0, len(trX), BATCH_SIZE),\n",
    "                             range(BATCH_SIZE, len(trX)+1, BATCH_SIZE))\n",
    "    for start, end in train_batch:\n",
    "        true_class=[np.argmax(v) for v in trY[start:end]]\n",
    "        pred_class=sess.run(prediction, feed_dict={inputs:trX[start:end], p_keep_hidden:1.0})\n",
    "\n",
    "        for i,j in zip(true_class, pred_class):\n",
    "            train_matrix[i][j]+=1\n",
    "    \n",
    "    testing_batch = zip(range(0, len(teX), BATCH_SIZE),\n",
    "                             range(BATCH_SIZE, len(teX)+1, BATCH_SIZE))\n",
    "    for start, end in testing_batch:\n",
    "        true_class=[np.argmax(v) for v in teY[start:end]]\n",
    "        pred_class=sess.run(prediction, feed_dict={inputs:teX[start:end], p_keep_hidden:1.0})\n",
    "\n",
    "        for i,j in zip(true_class, pred_class):\n",
    "            test_matrix[i][j]+=1\n",
    "    print 'predict done!'\n",
    "    \n",
    "    train_acc=1.0*np.trace(train_matrix)/np.sum(train_matrix)\n",
    "    test_acc=1.0*np.trace(test_matrix)/np.sum(test_matrix)\n",
    "\n",
    "    print(str(result_i)+'th result:')\n",
    "    print('train_mix_matrix is:')\n",
    "    print(train_matrix)\n",
    "    print('train accuracy is: '+str(train_acc))\n",
    "    print('test_mix_matrix is:')\n",
    "    print(test_matrix)\n",
    "    print('test accuracy is: '+str(test_acc))"
   ]
  },
  {
   "cell_type": "code",
   "execution_count": null,
   "metadata": {
    "collapsed": true
   },
   "outputs": [],
   "source": []
  }
 ],
 "metadata": {
  "kernelspec": {
   "display_name": "Python 2",
   "language": "python",
   "name": "python2"
  },
  "language_info": {
   "codemirror_mode": {
    "name": "ipython",
    "version": 2
   },
   "file_extension": ".py",
   "mimetype": "text/x-python",
   "name": "python",
   "nbconvert_exporter": "python",
   "pygments_lexer": "ipython2",
   "version": "2.7.6"
  }
 },
 "nbformat": 4,
 "nbformat_minor": 0
}
